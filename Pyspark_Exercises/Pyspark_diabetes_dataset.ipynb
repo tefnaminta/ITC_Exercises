{
  "nbformat": 4,
  "nbformat_minor": 0,
  "metadata": {
    "colab": {
      "provenance": [],
      "authorship_tag": "ABX9TyNJNgP1DgiDRCkECGeiI5Vj",
      "include_colab_link": true
    },
    "kernelspec": {
      "name": "python3",
      "display_name": "Python 3"
    },
    "language_info": {
      "name": "python"
    }
  },
  "cells": [
    {
      "cell_type": "markdown",
      "metadata": {
        "id": "view-in-github",
        "colab_type": "text"
      },
      "source": [
        "<a href=\"https://colab.research.google.com/github/tefnaminta/ITC_Exercises/blob/main/Pyspark_diabetes_dataset.ipynb\" target=\"_parent\"><img src=\"https://colab.research.google.com/assets/colab-badge.svg\" alt=\"Open In Colab\"/></a>"
      ]
    },
    {
      "cell_type": "code",
      "execution_count": null,
      "metadata": {
        "colab": {
          "base_uri": "https://localhost:8080/"
        },
        "id": "Vtd02ApIoFZb",
        "outputId": "a4f35747-d1fb-49fe-8562-8e5e6f49168b"
      },
      "outputs": [
        {
          "output_type": "stream",
          "name": "stdout",
          "text": [
            "Looking in indexes: https://pypi.org/simple, https://us-python.pkg.dev/colab-wheels/public/simple/\n",
            "Collecting pyspark\n",
            "  Downloading pyspark-3.3.1.tar.gz (281.4 MB)\n",
            "\u001b[K     |████████████████████████████████| 281.4 MB 48 kB/s \n",
            "\u001b[?25hCollecting py4j==0.10.9.5\n",
            "  Downloading py4j-0.10.9.5-py2.py3-none-any.whl (199 kB)\n",
            "\u001b[K     |████████████████████████████████| 199 kB 34.8 MB/s \n",
            "\u001b[?25hBuilding wheels for collected packages: pyspark\n",
            "  Building wheel for pyspark (setup.py) ... \u001b[?25l\u001b[?25hdone\n",
            "  Created wheel for pyspark: filename=pyspark-3.3.1-py2.py3-none-any.whl size=281845512 sha256=30294866f68c934c460eba8790adceb71e1c47a7c2610362bb09cffb91ac9b47\n",
            "  Stored in directory: /root/.cache/pip/wheels/42/59/f5/79a5bf931714dcd201b26025347785f087370a10a3329a899c\n",
            "Successfully built pyspark\n",
            "Installing collected packages: py4j, pyspark\n",
            "Successfully installed py4j-0.10.9.5 pyspark-3.3.1\n"
          ]
        }
      ],
      "source": [
        "pip install pyspark"
      ]
    },
    {
      "cell_type": "code",
      "source": [
        "\n",
        "# Import SparkSession\n",
        "from pyspark.sql import SparkSession\n",
        "\n",
        "# Create SparkSession \n",
        "spark = SparkSession.builder \\\n",
        "      .master(\"local[1]\") \\\n",
        "      .appName(\"diabetespyspark.com\") \\\n",
        "      .getOrCreate() \n"
      ],
      "metadata": {
        "id": "aqXtlL69sHFY"
      },
      "execution_count": null,
      "outputs": []
    },
    {
      "cell_type": "code",
      "source": [
        "df = spark.read.option(\"header\",\"true\").csv(\"diabetes.csv\")\n",
        "df.printSchema()"
      ],
      "metadata": {
        "colab": {
          "base_uri": "https://localhost:8080/"
        },
        "id": "FI-KR693szgP",
        "outputId": "9cf02740-e141-4470-dff0-bd021fb76dfd"
      },
      "execution_count": null,
      "outputs": [
        {
          "output_type": "stream",
          "name": "stdout",
          "text": [
            "root\n",
            " |-- Pregnancies: string (nullable = true)\n",
            " |-- Glucose: string (nullable = true)\n",
            " |-- BloodPressure: string (nullable = true)\n",
            " |-- SkinThickness: string (nullable = true)\n",
            " |-- Insulin: string (nullable = true)\n",
            " |-- BMI: string (nullable = true)\n",
            " |-- DiabetesPedigreeFunction: string (nullable = true)\n",
            " |-- Age: string (nullable = true)\n",
            " |-- Outcome: string (nullable = true)\n",
            "\n"
          ]
        }
      ]
    },
    {
      "cell_type": "code",
      "source": [
        "df.show(5)"
      ],
      "metadata": {
        "colab": {
          "base_uri": "https://localhost:8080/"
        },
        "id": "oHl7DplhtRgE",
        "outputId": "276b4e41-e992-4b47-9e17-0482a81220df"
      },
      "execution_count": null,
      "outputs": [
        {
          "output_type": "stream",
          "name": "stdout",
          "text": [
            "+-----------+-------+-------------+-------------+-------+----+------------------------+---+-------+\n",
            "|Pregnancies|Glucose|BloodPressure|SkinThickness|Insulin| BMI|DiabetesPedigreeFunction|Age|Outcome|\n",
            "+-----------+-------+-------------+-------------+-------+----+------------------------+---+-------+\n",
            "|          6|    148|           72|           35|      0|33.6|                   0.627| 50|      1|\n",
            "|          1|     85|           66|           29|      0|26.6|                   0.351| 31|      0|\n",
            "|          8|    183|           64|            0|      0|23.3|                   0.672| 32|      1|\n",
            "|          1|     89|           66|           23|     94|28.1|                   0.167| 21|      0|\n",
            "|          0|    137|           40|           35|    168|43.1|                   2.288| 33|      1|\n",
            "+-----------+-------+-------------+-------------+-------+----+------------------------+---+-------+\n",
            "only showing top 5 rows\n",
            "\n"
          ]
        }
      ]
    },
    {
      "cell_type": "code",
      "source": [
        "df.groupby(\"Pregnancies\").count().show()"
      ],
      "metadata": {
        "colab": {
          "base_uri": "https://localhost:8080/"
        },
        "id": "-unFt2UOtW_W",
        "outputId": "62c3e62f-e24d-43a3-e7d6-d72a7413e31a"
      },
      "execution_count": null,
      "outputs": [
        {
          "output_type": "stream",
          "name": "stdout",
          "text": [
            "+-----------+-----+\n",
            "|Pregnancies|count|\n",
            "+-----------+-----+\n",
            "|          7|   45|\n",
            "|         15|    1|\n",
            "|         11|   11|\n",
            "|          3|   75|\n",
            "|          8|   38|\n",
            "|          0|  111|\n",
            "|          5|   57|\n",
            "|         17|    1|\n",
            "|          6|   50|\n",
            "|          9|   28|\n",
            "|          1|  135|\n",
            "|         10|   24|\n",
            "|          4|   68|\n",
            "|         12|    9|\n",
            "|         13|   10|\n",
            "|         14|    2|\n",
            "|          2|  103|\n",
            "+-----------+-----+\n",
            "\n"
          ]
        }
      ]
    },
    {
      "cell_type": "code",
      "source": [
        "df.orderBy((\"Outcome\")).show()"
      ],
      "metadata": {
        "colab": {
          "base_uri": "https://localhost:8080/"
        },
        "id": "-T4HfWuBv9gu",
        "outputId": "d7c9e966-9f35-4157-c8f6-0e668a5d9216"
      },
      "execution_count": null,
      "outputs": [
        {
          "output_type": "stream",
          "name": "stdout",
          "text": [
            "+-----------+-------+-------------+-------------+-------+----+------------------------+---+-------+\n",
            "|Pregnancies|Glucose|BloodPressure|SkinThickness|Insulin| BMI|DiabetesPedigreeFunction|Age|Outcome|\n",
            "+-----------+-------+-------------+-------------+-------+----+------------------------+---+-------+\n",
            "|          8|     99|           84|            0|      0|35.4|                   0.388| 50|      0|\n",
            "|          7|    150|           66|           42|    342|34.7|                   0.718| 42|      0|\n",
            "|          1|     97|           66|           15|    140|23.2|                   0.487| 22|      0|\n",
            "|          1|     85|           66|           29|      0|26.6|                   0.351| 31|      0|\n",
            "|         13|    145|           82|           19|    110|22.2|                   0.245| 57|      0|\n",
            "|          1|     89|           66|           23|     94|28.1|                   0.167| 21|      0|\n",
            "|          5|    117|           92|            0|      0|34.1|                   0.337| 38|      0|\n",
            "|          5|    116|           74|            0|      0|25.6|                   0.201| 30|      0|\n",
            "|          5|    109|           75|           26|      0|  36|                   0.546| 60|      0|\n",
            "|         10|    115|            0|            0|      0|35.3|                   0.134| 29|      0|\n",
            "|          3|     88|           58|           11|     54|24.8|                   0.267| 22|      0|\n",
            "|          7|    133|           84|            0|      0|40.2|                   0.696| 37|      0|\n",
            "|          5|     88|           66|           21|     23|24.4|                   0.342| 30|      0|\n",
            "|          7|    106|           92|           18|      0|22.7|                   0.235| 48|      0|\n",
            "|          1|    103|           30|           38|     83|43.3|                   0.183| 33|      0|\n",
            "|          7|    159|           64|            0|      0|27.4|                   0.294| 40|      0|\n",
            "|          4|    110|           92|            0|      0|37.6|                   0.191| 30|      0|\n",
            "|          1|    146|           56|            0|      0|29.7|                   0.564| 29|      0|\n",
            "|         10|    122|           78|           31|      0|27.6|                   0.512| 45|      0|\n",
            "|          2|     71|           70|           27|      0|  28|                   0.586| 22|      0|\n",
            "+-----------+-------+-------------+-------------+-------+----+------------------------+---+-------+\n",
            "only showing top 20 rows\n",
            "\n"
          ]
        }
      ]
    },
    {
      "cell_type": "code",
      "source": [
        "df.agg({'Glucose':'avg'}).show()"
      ],
      "metadata": {
        "colab": {
          "base_uri": "https://localhost:8080/"
        },
        "id": "6Pen1u3IwkWh",
        "outputId": "bbe4799c-b497-46bf-bbb1-b54ba06b1fbc"
      },
      "execution_count": null,
      "outputs": [
        {
          "output_type": "stream",
          "name": "stdout",
          "text": [
            "+------------+\n",
            "|avg(Glucose)|\n",
            "+------------+\n",
            "|120.89453125|\n",
            "+------------+\n",
            "\n"
          ]
        }
      ]
    },
    {
      "cell_type": "code",
      "source": [
        "df.agg({'Glucose':'max'}).show()"
      ],
      "metadata": {
        "colab": {
          "base_uri": "https://localhost:8080/"
        },
        "id": "5yriJyHwwxNB",
        "outputId": "605ec1df-db5f-499b-b0d9-46ce009dbf6e"
      },
      "execution_count": null,
      "outputs": [
        {
          "output_type": "stream",
          "name": "stdout",
          "text": [
            "+------------+\n",
            "|max(Glucose)|\n",
            "+------------+\n",
            "|          99|\n",
            "+------------+\n",
            "\n"
          ]
        }
      ]
    },
    {
      "cell_type": "code",
      "source": [
        "df.agg({'Glucose':'min'}).show()"
      ],
      "metadata": {
        "colab": {
          "base_uri": "https://localhost:8080/"
        },
        "id": "owaAuLqbwxlP",
        "outputId": "994eb5e8-309b-4a81-c9a5-93fa8c957e45"
      },
      "execution_count": null,
      "outputs": [
        {
          "output_type": "stream",
          "name": "stdout",
          "text": [
            "+------------+\n",
            "|min(Glucose)|\n",
            "+------------+\n",
            "|           0|\n",
            "+------------+\n",
            "\n"
          ]
        }
      ]
    },
    {
      "cell_type": "code",
      "source": [
        "df.agg({'Outcome':'collect_set'}).show()"
      ],
      "metadata": {
        "colab": {
          "base_uri": "https://localhost:8080/"
        },
        "id": "qU2IKbq2xAO-",
        "outputId": "a9cc6910-e363-4aa6-9df1-8c4b51be12c7"
      },
      "execution_count": null,
      "outputs": [
        {
          "output_type": "stream",
          "name": "stdout",
          "text": [
            "+--------------------+\n",
            "|collect_set(Outcome)|\n",
            "+--------------------+\n",
            "|              [1, 0]|\n",
            "+--------------------+\n",
            "\n"
          ]
        }
      ]
    },
    {
      "cell_type": "code",
      "source": [
        "df.select(df.columns[0:3]).show()"
      ],
      "metadata": {
        "colab": {
          "base_uri": "https://localhost:8080/"
        },
        "id": "lS-XxvW9xEHx",
        "outputId": "6ea5af8d-3865-467d-931e-1d8bb5e9ef38"
      },
      "execution_count": null,
      "outputs": [
        {
          "output_type": "stream",
          "name": "stdout",
          "text": [
            "+-----------+-------+-------------+\n",
            "|Pregnancies|Glucose|BloodPressure|\n",
            "+-----------+-------+-------------+\n",
            "|          6|    148|           72|\n",
            "|          1|     85|           66|\n",
            "|          8|    183|           64|\n",
            "|          1|     89|           66|\n",
            "|          0|    137|           40|\n",
            "|          5|    116|           74|\n",
            "|          3|     78|           50|\n",
            "|         10|    115|            0|\n",
            "|          2|    197|           70|\n",
            "|          8|    125|           96|\n",
            "|          4|    110|           92|\n",
            "|         10|    168|           74|\n",
            "|         10|    139|           80|\n",
            "|          1|    189|           60|\n",
            "|          5|    166|           72|\n",
            "|          7|    100|            0|\n",
            "|          0|    118|           84|\n",
            "|          7|    107|           74|\n",
            "|          1|    103|           30|\n",
            "|          1|    115|           70|\n",
            "+-----------+-------+-------------+\n",
            "only showing top 20 rows\n",
            "\n"
          ]
        }
      ]
    }
  ]
}
