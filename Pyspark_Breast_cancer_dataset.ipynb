{
  "nbformat": 4,
  "nbformat_minor": 0,
  "metadata": {
    "colab": {
      "provenance": [],
      "authorship_tag": "ABX9TyPjZ0v33YnV8TOhYg0nQTkS",
      "include_colab_link": true
    },
    "kernelspec": {
      "name": "python3",
      "display_name": "Python 3"
    },
    "language_info": {
      "name": "python"
    }
  },
  "cells": [
    {
      "cell_type": "markdown",
      "metadata": {
        "id": "view-in-github",
        "colab_type": "text"
      },
      "source": [
        "<a href=\"https://colab.research.google.com/github/tefnaminta/ITC_Exercises/blob/main/Pyspark_Breast_cancer_dataset.ipynb\" target=\"_parent\"><img src=\"https://colab.research.google.com/assets/colab-badge.svg\" alt=\"Open In Colab\"/></a>"
      ]
    },
    {
      "cell_type": "code",
      "source": [
        "pip install pyspark"
      ],
      "metadata": {
        "colab": {
          "base_uri": "https://localhost:8080/"
        },
        "id": "aDzbh_W_r6nx",
        "outputId": "316a60cb-4369-4a5a-9e1e-436251e3b72f"
      },
      "execution_count": 2,
      "outputs": [
        {
          "output_type": "stream",
          "name": "stdout",
          "text": [
            "Looking in indexes: https://pypi.org/simple, https://us-python.pkg.dev/colab-wheels/public/simple/\n",
            "Collecting pyspark\n",
            "  Downloading pyspark-3.3.1.tar.gz (281.4 MB)\n",
            "\u001b[K     |████████████████████████████████| 281.4 MB 46 kB/s \n",
            "\u001b[?25hCollecting py4j==0.10.9.5\n",
            "  Downloading py4j-0.10.9.5-py2.py3-none-any.whl (199 kB)\n",
            "\u001b[K     |████████████████████████████████| 199 kB 97.8 MB/s \n",
            "\u001b[?25hBuilding wheels for collected packages: pyspark\n",
            "  Building wheel for pyspark (setup.py) ... \u001b[?25l\u001b[?25hdone\n",
            "  Created wheel for pyspark: filename=pyspark-3.3.1-py2.py3-none-any.whl size=281845512 sha256=9dacb09efee500eae59f938a29432c1a68b928d586b59e26d977bb58bd9bc047\n",
            "  Stored in directory: /root/.cache/pip/wheels/42/59/f5/79a5bf931714dcd201b26025347785f087370a10a3329a899c\n",
            "Successfully built pyspark\n",
            "Installing collected packages: py4j, pyspark\n",
            "Successfully installed py4j-0.10.9.5 pyspark-3.3.1\n"
          ]
        }
      ]
    },
    {
      "cell_type": "code",
      "execution_count": 3,
      "metadata": {
        "id": "EETpuuSrn0BW"
      },
      "outputs": [],
      "source": [
        "\n",
        "# Import SparkSession\n",
        "from pyspark.sql import SparkSession\n",
        "\n",
        "# Create SparkSession \n",
        "spark = SparkSession.builder \\\n",
        "      .master(\"local[1]\") \\\n",
        "      .appName(\"BCpyspark.com\") \\\n",
        "      .getOrCreate() \n"
      ]
    },
    {
      "cell_type": "code",
      "source": [
        "df = spark.read.option(\"header\",\"true\").csv(\"breast_cancer_data.csv\")\n",
        "df.printSchema()"
      ],
      "metadata": {
        "colab": {
          "base_uri": "https://localhost:8080/"
        },
        "id": "AssAjw14r5Dw",
        "outputId": "4aa30418-5dde-4677-9f3f-2e8c41b3b93c"
      },
      "execution_count": 6,
      "outputs": [
        {
          "output_type": "stream",
          "name": "stdout",
          "text": [
            "root\n",
            " |-- Class: string (nullable = true)\n",
            " |-- age: string (nullable = true)\n",
            " |-- menopause: string (nullable = true)\n",
            " |-- tumor-size: string (nullable = true)\n",
            " |-- inv-nodes: string (nullable = true)\n",
            " |-- node-caps: string (nullable = true)\n",
            " |-- deg-malig: string (nullable = true)\n",
            " |-- breast: string (nullable = true)\n",
            " |-- breast-quad: string (nullable = true)\n",
            " |-- irradiat: string (nullable = true)\n",
            "\n"
          ]
        }
      ]
    },
    {
      "cell_type": "code",
      "source": [
        "df.createOrReplaceTempView(\"bcdata\")\n",
        "df2 = spark.sql(\"SELECT * from bcdata\")\n",
        "df2.printSchema()\n",
        "df2.show()"
      ],
      "metadata": {
        "colab": {
          "base_uri": "https://localhost:8080/"
        },
        "id": "NRz75hIstFH0",
        "outputId": "11da03b9-e0da-4348-a8fe-c348647f24e4"
      },
      "execution_count": 8,
      "outputs": [
        {
          "output_type": "stream",
          "name": "stdout",
          "text": [
            "root\n",
            " |-- Class: string (nullable = true)\n",
            " |-- age: string (nullable = true)\n",
            " |-- menopause: string (nullable = true)\n",
            " |-- tumor-size: string (nullable = true)\n",
            " |-- inv-nodes: string (nullable = true)\n",
            " |-- node-caps: string (nullable = true)\n",
            " |-- deg-malig: string (nullable = true)\n",
            " |-- breast: string (nullable = true)\n",
            " |-- breast-quad: string (nullable = true)\n",
            " |-- irradiat: string (nullable = true)\n",
            "\n",
            "+--------------------+-----+---------+----------+---------+---------+---------+------+-----------+--------+\n",
            "|               Class|  age|menopause|tumor-size|inv-nodes|node-caps|deg-malig|breast|breast-quad|irradiat|\n",
            "+--------------------+-----+---------+----------+---------+---------+---------+------+-----------+--------+\n",
            "|no-recurrence-events|30-39|  premeno|     30-34|      0-2|       no|        3|  left|   left_low|      no|\n",
            "|no-recurrence-events|40-49|  premeno|     20-24|      0-2|       no|        2| right|   right_up|      no|\n",
            "|no-recurrence-events|40-49|  premeno|     20-24|      0-2|       no|        2|  left|   left_low|      no|\n",
            "|no-recurrence-events|60-69|     ge40|     15-19|      0-2|       no|        2| right|    left_up|      no|\n",
            "|no-recurrence-events|40-49|  premeno|       0-4|      0-2|       no|        2| right|  right_low|      no|\n",
            "|no-recurrence-events|60-69|     ge40|     15-19|      0-2|       no|        2|  left|   left_low|      no|\n",
            "|no-recurrence-events|50-59|  premeno|     25-29|      0-2|       no|        2|  left|   left_low|      no|\n",
            "|no-recurrence-events|60-69|     ge40|     20-24|      0-2|       no|        1|  left|   left_low|      no|\n",
            "|no-recurrence-events|40-49|  premeno|     50-54|      0-2|       no|        2|  left|   left_low|      no|\n",
            "|no-recurrence-events|40-49|  premeno|     20-24|      0-2|       no|        2| right|    left_up|      no|\n",
            "|no-recurrence-events|40-49|  premeno|       0-4|      0-2|       no|        3|  left|    central|      no|\n",
            "|no-recurrence-events|50-59|     ge40|     25-29|      0-2|       no|        2|  left|   left_low|      no|\n",
            "|no-recurrence-events|60-69|     lt40|    Oct-14|      0-2|       no|        1|  left|   right_up|      no|\n",
            "|no-recurrence-events|50-59|     ge40|     25-29|      0-2|       no|        3|  left|   right_up|      no|\n",
            "|no-recurrence-events|40-49|  premeno|     30-34|      0-2|       no|        3|  left|    left_up|      no|\n",
            "|no-recurrence-events|60-69|     lt40|     30-34|      0-2|       no|        1|  left|   left_low|      no|\n",
            "|no-recurrence-events|40-49|  premeno|     15-19|      0-2|       no|        2|  left|   left_low|      no|\n",
            "|no-recurrence-events|50-59|  premeno|     30-34|      0-2|       no|        3|  left|   left_low|      no|\n",
            "|no-recurrence-events|60-69|     ge40|     30-34|      0-2|       no|        3|  left|   left_low|      no|\n",
            "|no-recurrence-events|50-59|     ge40|     30-34|      0-2|       no|        1| right|   right_up|      no|\n",
            "+--------------------+-----+---------+----------+---------+---------+---------+------+-----------+--------+\n",
            "only showing top 20 rows\n",
            "\n"
          ]
        }
      ]
    },
    {
      "cell_type": "code",
      "source": [
        "groupDF = spark.sql(\"SELECT age, count(*) as agecount from bcdata group by age\")\n",
        "groupDF.show()"
      ],
      "metadata": {
        "colab": {
          "base_uri": "https://localhost:8080/"
        },
        "id": "0nFKyqM4tkv_",
        "outputId": "3655ad85-021d-4373-b233-0b3b25fee695"
      },
      "execution_count": 10,
      "outputs": [
        {
          "output_type": "stream",
          "name": "stdout",
          "text": [
            "+-----+--------+\n",
            "|  age|agecount|\n",
            "+-----+--------+\n",
            "|30-39|      36|\n",
            "|20-29|       1|\n",
            "|60-69|      57|\n",
            "|40-49|      90|\n",
            "|70-79|       6|\n",
            "|50-59|      96|\n",
            "+-----+--------+\n",
            "\n"
          ]
        }
      ]
    },
    {
      "cell_type": "code",
      "source": [
        "spark.sql(\"select * from bcdata order by age desc\").show()"
      ],
      "metadata": {
        "colab": {
          "base_uri": "https://localhost:8080/"
        },
        "id": "aZvGO63ruDhd",
        "outputId": "e7615e9b-2c18-48af-adf5-a7b83ce19a2d"
      },
      "execution_count": 19,
      "outputs": [
        {
          "output_type": "stream",
          "name": "stdout",
          "text": [
            "+--------------------+-----+---------+----------+---------+---------+---------+------+-----------+--------+\n",
            "|               Class|  age|menopause|tumor-size|inv-nodes|node-caps|deg-malig|breast|breast-quad|irradiat|\n",
            "+--------------------+-----+---------+----------+---------+---------+---------+------+-----------+--------+\n",
            "|   recurrence-events|70-79|     ge40|     15-19|   09-Nov|        ?|        1|  left|   left_low|     yes|\n",
            "|no-recurrence-events|70-79|     ge40|     20-24|      0-2|       no|        3|  left|    left_up|      no|\n",
            "|no-recurrence-events|70-79|     ge40|     40-44|      0-2|       no|        1| right|   right_up|      no|\n",
            "|no-recurrence-events|70-79|     ge40|       0-4|      0-2|       no|        1|  left|  right_low|      no|\n",
            "|no-recurrence-events|70-79|     ge40|     40-44|      0-2|       no|        1| right|    left_up|      no|\n",
            "|no-recurrence-events|70-79|     ge40|    Oct-14|      0-2|       no|        2|  left|    central|      no|\n",
            "|no-recurrence-events|60-69|     ge40|     15-19|      0-2|       no|        2|  left|   left_low|      no|\n",
            "|no-recurrence-events|60-69|     ge40|     30-34|      0-2|       no|        1|  left|    left_up|      no|\n",
            "|no-recurrence-events|60-69|     ge40|     50-54|      0-2|       no|        2|  left|   left_low|      no|\n",
            "|no-recurrence-events|60-69|     ge40|     30-34|      0-2|       no|        2|  left|   left_low|     yes|\n",
            "|no-recurrence-events|60-69|     ge40|     15-19|      0-2|       no|        1| right|    left_up|      no|\n",
            "|no-recurrence-events|60-69|     ge40|     30-34|      0-2|       no|        2|  left|   left_low|      no|\n",
            "|no-recurrence-events|60-69|     ge40|    Oct-14|      0-2|       no|        1|  left|   left_low|      no|\n",
            "|no-recurrence-events|60-69|     ge40|     20-24|      0-2|       no|        1|  left|   left_low|      no|\n",
            "|no-recurrence-events|60-69|     ge40|     20-24|      0-2|       no|        2| right|    left_up|      no|\n",
            "|no-recurrence-events|60-69|     ge40|     30-34|      0-2|       no|        2|  left|    left_up|      no|\n",
            "|no-recurrence-events|60-69|     ge40|    05-Sep|      0-2|       no|        1|  left|    central|      no|\n",
            "|no-recurrence-events|60-69|     ge40|     25-29|      0-2|       no|        2| right|   left_low|      no|\n",
            "|no-recurrence-events|60-69|     ge40|     15-19|      0-2|       no|        2|  left|   left_low|      no|\n",
            "|no-recurrence-events|60-69|     lt40|     30-34|      0-2|       no|        1|  left|   left_low|      no|\n",
            "+--------------------+-----+---------+----------+---------+---------+---------+------+-----------+--------+\n",
            "only showing top 20 rows\n",
            "\n"
          ]
        }
      ]
    },
    {
      "cell_type": "code",
      "source": [
        "spark.sql(\"select min(irradiat) as minmum from bcdata where Class = 'recurrence-events'\").show()"
      ],
      "metadata": {
        "colab": {
          "base_uri": "https://localhost:8080/"
        },
        "id": "6F0KwwCO0fD2",
        "outputId": "fa4e8900-39e0-4360-e5ec-a3e084ecabfe"
      },
      "execution_count": 21,
      "outputs": [
        {
          "output_type": "stream",
          "name": "stdout",
          "text": [
            "+------+\n",
            "|minmum|\n",
            "+------+\n",
            "|    no|\n",
            "+------+\n",
            "\n"
          ]
        }
      ]
    },
    {
      "cell_type": "code",
      "source": [
        "spark.sql(\"select max(irradiat) as maximum from bcdata where Class = 'recurrence-events'\").show()"
      ],
      "metadata": {
        "colab": {
          "base_uri": "https://localhost:8080/"
        },
        "id": "gT-JybjN12Y7",
        "outputId": "012628a4-543a-443b-bd4a-f85eb8c65b51"
      },
      "execution_count": 25,
      "outputs": [
        {
          "output_type": "stream",
          "name": "stdout",
          "text": [
            "+-------+\n",
            "|maximum|\n",
            "+-------+\n",
            "|    yes|\n",
            "+-------+\n",
            "\n"
          ]
        }
      ]
    },
    {
      "cell_type": "code",
      "source": [],
      "metadata": {
        "id": "MdOTDVC12Ge1"
      },
      "execution_count": null,
      "outputs": []
    }
  ]
}